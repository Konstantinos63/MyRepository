{
 "cells": [
  {
   "cell_type": "markdown",
   "metadata": {},
   "source": [
    "![](https://media.giphy.com/media/JWuBH9rCO2uZuHBFpm/giphy.gif)\n",
    "\n",
    "Remember the rules of ~Fight~ Code Club:\n",
    "1. ALWAYS DOCUMENT\n",
    "2. Cite resources that you use (paste links)\n",
    "3. Include the names people who you worked with\n",
    "4. Be neat and organized"
   ]
  },
  {
   "cell_type": "markdown",
   "metadata": {},
   "source": [
    "### Question 1\n",
    "\n",
    "Use the [pokeAPI](https://pokeapi.co/)\n",
    "\n",
    "1. Find out information about the Pokemon \"tyranitar\":\n",
    "- What is its type(s)?\n",
    "- What is its abilities?\n",
    "\n",
    "2. How many pokemon are \"dragon\" type?\n",
    "\n",
    "You must use python and apply the GET method via their API to display this information."
   ]
  },
  {
   "cell_type": "markdown",
   "metadata": {},
   "source": [
    "# https://pokeapi.co/"
   ]
  },
  {
   "cell_type": "code",
   "execution_count": 41,
   "metadata": {},
   "outputs": [
    {
     "data": {
      "text/plain": [
       "[{'slot': 1,\n",
       "  'type': {'name': 'rock', 'url': 'https://pokeapi.co/api/v2/type/6/'}},\n",
       " {'slot': 2,\n",
       "  'type': {'name': 'dark', 'url': 'https://pokeapi.co/api/v2/type/17/'}}]"
      ]
     },
     "execution_count": 41,
     "metadata": {},
     "output_type": "execute_result"
    }
   ],
   "source": [
    "import requests\n",
    "urlpo='https://pokeapi.co/api/v2/pokemon/tyranitar'\n",
    "responsepo=requests.get(urlpo)\n",
    "payloadpo=responsepo.json()\n",
    "payloadpo['abilities']\n",
    "type(payloadpo)\n",
    "payloadpo['types']"
   ]
  },
  {
   "cell_type": "markdown",
   "metadata": {},
   "source": [
    "I get the response back in JSON format, requesting a specific dataset code for ''tyranitar''. It has 2 abilities: 1.) 'sand-stream' & 2.)'unnerve'. Also, the link leads to description of 'tyranitar' dataset and the items within it. It is a dictionary and 'types' - which is a list of dictionaries - includes 2 items, 0 & 1. Each of these 2 items has a 'type' with 2 keys: 'rock' & 'dark'."
   ]
  },
  {
   "cell_type": "code",
   "execution_count": 45,
   "metadata": {},
   "outputs": [
    {
     "data": {
      "text/plain": [
       "10"
      ]
     },
     "execution_count": 45,
     "metadata": {},
     "output_type": "execute_result"
    }
   ],
   "source": [
    "urldr='https://pokeapi.co/api/v2/type/dragon'\n",
    "responsedr=requests.get(urldr)\n",
    "payloaddr=responsedr.json()\n",
    "payloaddr['names']\n",
    "len(payloaddr['names'])"
   ]
  },
  {
   "cell_type": "markdown",
   "metadata": {},
   "source": [
    "# https://pokeapi.co/ , I used this link to filter the API and see all the dragon type names."
   ]
  },
  {
   "cell_type": "markdown",
   "metadata": {},
   "source": [
    "### Question 2\n",
    "\n",
    "Use the [Open Air Quality API](https://docs.openaq.org/)\n",
    "\n",
    "Hint: typically queries need a ? in the url\n",
    "\n",
    "Find out how much ozone and carbon monoxide there is near CCNY. Use the most recent date that you pull the information.\n",
    "\n",
    "You must use python and apply the GET method via their API and display this information."
   ]
  },
  {
   "cell_type": "code",
   "execution_count": 110,
   "metadata": {},
   "outputs": [
    {
     "data": {
      "text/plain": [
       "[{'id': 671,\n",
       "  'name': 'o3 ppm',\n",
       "  'parameter': {'id': 10, 'name': 'o3', 'units': 'ppm', 'displayName': 'O₃'}},\n",
       " {'id': 673,\n",
       "  'name': 'pm25 µg/m³',\n",
       "  'parameter': {'id': 2,\n",
       "   'name': 'pm25',\n",
       "   'units': 'µg/m³',\n",
       "   'displayName': 'PM2.5'}}]"
      ]
     },
     "execution_count": 110,
     "metadata": {},
     "output_type": "execute_result"
    }
   ],
   "source": [
    "import requests\n",
    "import pandas as pd\n",
    "headers={'X-API-Key':'1fefb14aec76096d1ffccbcbf01282030824a8ea7c88078f638984f247459b86'}\n",
    "urlair= 'https://api.openaq.org/v3/locations?coordinates=40.820112641200105,-73.94926075092698&radius=12000&limit=1000'\n",
    "responseair= requests.get(urlair,headers=headers)\n",
    "payloadair=responseair.json()\n",
    "df=pd.DataFrame(responseair.json()['results'])\n",
    "df.sensors[0]"
   ]
  },
  {
   "cell_type": "markdown",
   "metadata": {},
   "source": [
    "### Question 3\n",
    "\n",
    "Use the [Open Air Quality API](https://docs.openaq.org/)\n",
    "\n",
    "Hint: typically queries need a ? in the url. Note that cities that need a space use a %20 between them (ie Los%20Angeles). Make sure that when you request information about a measurement that you are using a url that can do this for you.\n",
    "\n",
    "First find out what the parameter id is of 'Particulate matter less than 25 micrometers in diameter.'\n",
    "\n",
    "Then, find out how much 'Particulate matter less than 25 micrometers in diameter' there is in:\n",
    "- Beijing\n",
    "- Addis Ababa\n",
    "- Dushanbe\n",
    "\n",
    "Bonus points if you can aggregate this information in one table.\n",
    "\n",
    "You must use python and apply the GET method via their API and display this information.\n",
    "\n"
   ]
  },
  {
   "cell_type": "markdown",
   "metadata": {},
   "source": [
    "# https://docs.openaq.org/using-the-api/quick-start"
   ]
  },
  {
   "cell_type": "code",
   "execution_count": 114,
   "metadata": {},
   "outputs": [],
   "source": [
    "url3='https://api.openaq.org/v3/parameters/2'\n",
    "response=requests.get(url3,headers=headers)"
   ]
  },
  {
   "cell_type": "code",
   "execution_count": 116,
   "metadata": {},
   "outputs": [],
   "source": [
    "data=response.json()"
   ]
  },
  {
   "cell_type": "code",
   "execution_count": 118,
   "metadata": {},
   "outputs": [],
   "source": [
    "results3=data['results']"
   ]
  },
  {
   "cell_type": "code",
   "execution_count": 120,
   "metadata": {},
   "outputs": [
    {
     "data": {
      "text/plain": [
       "[{'id': 2,\n",
       "  'name': 'pm25',\n",
       "  'units': 'µg/m³',\n",
       "  'displayName': 'PM2.5',\n",
       "  'description': 'Particulate matter less than 2.5 micrometers in diameter mass concentration'}]"
      ]
     },
     "execution_count": 120,
     "metadata": {},
     "output_type": "execute_result"
    }
   ],
   "source": [
    "results3"
   ]
  },
  {
   "cell_type": "code",
   "execution_count": 129,
   "metadata": {},
   "outputs": [],
   "source": [
    "urlbeijing='https://api.openaq.org/v3/locations/8833/latest' #'https://api.openaq.org/v3/locations/8833/latest'+user_request+\"/latest\""
   ]
  },
  {
   "cell_type": "code",
   "execution_count": 135,
   "metadata": {},
   "outputs": [
    {
     "data": {
      "text/plain": [
       "{'meta': {'name': 'openaq-api',\n",
       "  'website': '/',\n",
       "  'page': 1,\n",
       "  'limit': 100,\n",
       "  'found': 2},\n",
       " 'results': [{'datetime': {'utc': '2025-02-25T23:00:00Z',\n",
       "    'local': '2025-02-26T07:00:00+08:00'},\n",
       "   'value': 18.0,\n",
       "   'coordinates': {'latitude': 39.953352, 'longitude': 116.466258},\n",
       "   'sensorsId': 25754,\n",
       "   'locationsId': 8833},\n",
       "  {'datetime': {'utc': '2025-02-25T23:00:00Z',\n",
       "    'local': '2025-02-26T07:00:00+08:00'},\n",
       "   'value': 0.0,\n",
       "   'coordinates': {'latitude': 39.953352, 'longitude': 116.466258},\n",
       "   'sensorsId': 25755,\n",
       "   'locationsId': 8833}]}"
      ]
     },
     "execution_count": 135,
     "metadata": {},
     "output_type": "execute_result"
    }
   ],
   "source": [
    "responsebeijing=requests.get(urlbeijing,headers=headers)\n",
    "payloadbeijing=responsebeijing.json()\n",
    "payloadbeijing"
   ]
  },
  {
   "cell_type": "code",
   "execution_count": 126,
   "metadata": {},
   "outputs": [
    {
     "data": {
      "text/plain": [
       "{'meta': {'name': 'openaq-api',\n",
       "  'website': '/',\n",
       "  'page': 1,\n",
       "  'limit': 100,\n",
       "  'found': 1},\n",
       " 'results': [{'datetime': {'utc': '2025-02-26T15:00:00Z',\n",
       "    'local': '2025-02-26T18:00:00+03:00'},\n",
       "   'value': 16.0,\n",
       "   'coordinates': {'latitude': 9.011444, 'longitude': 38.820909},\n",
       "   'sensorsId': 1352354,\n",
       "   'locationsId': 235169}]}"
      ]
     },
     "execution_count": 126,
     "metadata": {},
     "output_type": "execute_result"
    }
   ],
   "source": [
    "urladdis='https://api.openaq.org/v3/locations/235169/latest'\n",
    "responseaddis=requests.get(urladdis,headers=headers)\n",
    "payloadaddis=responseaddis.json()\n",
    "payloadaddis"
   ]
  },
  {
   "cell_type": "code",
   "execution_count": 128,
   "metadata": {},
   "outputs": [
    {
     "data": {
      "text/plain": [
       "{'meta': {'name': 'openaq-api',\n",
       "  'website': '/',\n",
       "  'page': 1,\n",
       "  'limit': 100,\n",
       "  'found': 1},\n",
       " 'results': [{'datetime': {'utc': '2025-02-26T15:00:00Z',\n",
       "    'local': '2025-02-26T20:00:00+05:00'},\n",
       "   'value': 108.0,\n",
       "   'coordinates': {'latitude': 38.557671, 'longitude': 68.775917},\n",
       "   'sensorsId': 25215,\n",
       "   'locationsId': 8684}]}"
      ]
     },
     "execution_count": 128,
     "metadata": {},
     "output_type": "execute_result"
    }
   ],
   "source": [
    "urldushanbe='https://api.openaq.org/v3/locations/8684/latest'\n",
    "responsedushanbe=requests.get(urldushanbe,headers=headers)\n",
    "payloaddushanbe=responsedushanbe.json()\n",
    "payloaddushanbe"
   ]
  }
 ],
 "metadata": {
  "kernelspec": {
   "display_name": "Python [conda env:base] *",
   "language": "python",
   "name": "conda-base-py"
  },
  "language_info": {
   "codemirror_mode": {
    "name": "ipython",
    "version": 3
   },
   "file_extension": ".py",
   "mimetype": "text/x-python",
   "name": "python",
   "nbconvert_exporter": "python",
   "pygments_lexer": "ipython3",
   "version": "3.12.7"
  }
 },
 "nbformat": 4,
 "nbformat_minor": 4
}
