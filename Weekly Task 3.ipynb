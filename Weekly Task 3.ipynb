{
 "cells": [
  {
   "cell_type": "markdown",
   "metadata": {},
   "source": [
    "# Weekly Task 2 - Roller Coaster Loops\n",
    "![wooo!](https://media.giphy.com/media/SNrC0OKr4YP2U/giphy.gif?cid=ecf05e47lnb8o893cghul7mragm4n7ric88y6ka94wp4r25f&rid=giphy.gif&ct=g)"
   ]
  },
  {
   "cell_type": "markdown",
   "metadata": {},
   "source": [
    "Remember the rules of ~Fight~ Code Club:\n",
    "1. ALWAYS DOCUMENT\n",
    "2. Cite resources that you use (paste links)\n",
    "3. Include the names people who you worked with\n",
    "4. Be neat and organized"
   ]
  },
  {
   "cell_type": "markdown",
   "metadata": {},
   "source": [
    "### 1.  Write a for loop that loops through your list of countries and does the following operations:\n",
    "#### 1. If that country starts with the letter c, it prints the name of that country\n",
    "#### 2. otherwise it adds 1 to a variable called \"count\""
   ]
  },
  {
   "cell_type": "code",
   "execution_count": 195,
   "metadata": {},
   "outputs": [
    {
     "name": "stdout",
     "output_type": "stream",
     "text": [
      "1\n"
     ]
    }
   ],
   "source": [
    "listcountries=['Canada','U.S.A','Greece','Russia','France','Italy']\n",
    "count=0\n",
    "for i in listcountries:\n",
    "    if i[0].lower()=='C': # www.w3schools.com\n",
    "     print(i)\n",
    "else:\n",
    "    count+=1\n",
    "print(count)"
   ]
  },
  {
   "cell_type": "markdown",
   "metadata": {},
   "source": [
    "### 2.  Write a python script using a for loop and range function that prints numbers 20 through 160 by every 10 except 80."
   ]
  },
  {
   "cell_type": "code",
   "execution_count": 126,
   "metadata": {},
   "outputs": [
    {
     "name": "stdout",
     "output_type": "stream",
     "text": [
      "20\n",
      "30\n",
      "40\n",
      "50\n",
      "60\n",
      "70\n",
      "90\n",
      "100\n",
      "110\n",
      "120\n",
      "130\n",
      "140\n",
      "150\n",
      "160\n"
     ]
    }
   ],
   "source": [
    "for i in range(20,170,10):\n",
    "    if i !=80:\n",
    "        print(i)"
   ]
  },
  {
   "cell_type": "markdown",
   "metadata": {},
   "source": [
    "### 3. Write a while loop that calculates celsius to farenheit from 0 up to and including 38 celsius (hint: (32°F − 32) × 5/9 = 0°C)\n"
   ]
  },
  {
   "cell_type": "code",
   "execution_count": 197,
   "metadata": {},
   "outputs": [
    {
     "name": "stdout",
     "output_type": "stream",
     "text": [
      "0 C is equal to 32.0 F\n",
      "1 C is equal to 33.8 F\n",
      "2 C is equal to 35.6 F\n",
      "3 C is equal to 37.4 F\n",
      "4 C is equal to 39.2 F\n",
      "5 C is equal to 41.0 F\n",
      "6 C is equal to 42.8 F\n",
      "7 C is equal to 44.6 F\n",
      "8 C is equal to 46.4 F\n",
      "9 C is equal to 48.2 F\n",
      "10 C is equal to 50.0 F\n",
      "11 C is equal to 51.8 F\n",
      "12 C is equal to 53.6 F\n",
      "13 C is equal to 55.400000000000006 F\n",
      "14 C is equal to 57.2 F\n",
      "15 C is equal to 59.0 F\n",
      "16 C is equal to 60.8 F\n",
      "17 C is equal to 62.6 F\n",
      "18 C is equal to 64.4 F\n",
      "19 C is equal to 66.2 F\n",
      "20 C is equal to 68.0 F\n",
      "21 C is equal to 69.80000000000001 F\n",
      "22 C is equal to 71.6 F\n",
      "23 C is equal to 73.4 F\n",
      "24 C is equal to 75.2 F\n",
      "25 C is equal to 77.0 F\n",
      "26 C is equal to 78.80000000000001 F\n",
      "27 C is equal to 80.6 F\n",
      "28 C is equal to 82.4 F\n",
      "29 C is equal to 84.2 F\n",
      "30 C is equal to 86.0 F\n",
      "31 C is equal to 87.80000000000001 F\n",
      "32 C is equal to 89.6 F\n",
      "33 C is equal to 91.4 F\n",
      "34 C is equal to 93.2 F\n",
      "35 C is equal to 95.0 F\n",
      "36 C is equal to 96.8 F\n",
      "37 C is equal to 98.60000000000001 F\n",
      "38 C is equal to 100.4 F\n"
     ]
    }
   ],
   "source": [
    "celcius=0\n",
    "while celcius<=38:\n",
    "    fahreneit=(9/5)*celcius+32\n",
    "    print(f\"{celcius} C is equal to {fahreneit} F\") #www.w3schools.com\n",
    "    celcius+=1"
   ]
  },
  {
   "cell_type": "markdown",
   "metadata": {},
   "source": [
    "### 4. Write a script with a nested for loop that prints out every month and then prints out the total days of the month. "
   ]
  },
  {
   "cell_type": "code",
   "execution_count": 193,
   "metadata": {},
   "outputs": [
    {
     "name": "stdout",
     "output_type": "stream",
     "text": [
      "January: 31 days\n",
      "February: 28 days\n",
      "March: 31 days\n",
      "April: 30 days\n",
      "May: 31 days\n",
      "June: 30 days\n",
      "July: 31 days\n",
      "August: 31 days\n",
      "September: 30 days\n",
      "October: 31 days\n",
      "November: 30 days\n",
      "December: 31 days\n"
     ]
    }
   ],
   "source": [
    "months=[\"January\",\"February\",\"March\",\"April\",\"May\",\"June\",\"July\",\"August\",\"September\",\"October\",\"November\",\"December\"]\n",
    "days=[31,28,31,30,31,30,31,31,30,31,30,31]\n",
    "for i in range(len(months)):\n",
    "    print(f\"{months[i]}: {days[i]} days\")"
   ]
  }
 ],
 "metadata": {
  "kernelspec": {
   "display_name": "Python [conda env:base] *",
   "language": "python",
   "name": "conda-base-py"
  },
  "language_info": {
   "codemirror_mode": {
    "name": "ipython",
    "version": 3
   },
   "file_extension": ".py",
   "mimetype": "text/x-python",
   "name": "python",
   "nbconvert_exporter": "python",
   "pygments_lexer": "ipython3",
   "version": "3.12.7"
  }
 },
 "nbformat": 4,
 "nbformat_minor": 4
}
