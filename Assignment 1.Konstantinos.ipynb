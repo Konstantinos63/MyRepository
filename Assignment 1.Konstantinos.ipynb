{
 "cells": [
  {
   "cell_type": "markdown",
   "metadata": {},
   "source": [
    "# NAME: Konstantinos Kalogerogiannis\n",
    "## EMAIL: kk05192n@pace.edu\n",
    "## GROUP: - \n",
    "    "
   ]
  },
  {
   "cell_type": "markdown",
   "metadata": {},
   "source": [
    "# Assignment 1\n",
    "\n",
    "You may work in groups, but you must submit your own work. If you worked with others, please be sure to include their names in your submitted work. \n",
    "\n",
    "Be sure to **DOCUMENT your work** (points will be deducted without documentation). Always import any packages that you use at the top of your assignment. \n",
    "\n",
    "Be sure to includes you name and email address in the jupyter notebook that you turn in.  \n",
    "\n",
    "Each question is worth 10 points.\n",
    "\n",
    "Use the power of the internet when you're stuck or need to find a function to execute it. **CITE YOU WORK**"
   ]
  },
  {
   "cell_type": "markdown",
   "metadata": {},
   "source": [
    "## Question 1\n",
    "Please tell me what the function `np.histogram()` does in your own words. What are the required arguments and optional arguments? In your answer, tell me how you looked up the function (include links to any websites or internal function in python that you used).\n"
   ]
  },
  {
   "cell_type": "markdown",
   "metadata": {},
   "source": [
    "### Write your answer here:"
   ]
  },
  {
   "cell_type": "markdown",
   "metadata": {},
   "source": [
    "Description of the function: divides the input- array data - in intervals (bins) and counts the occurences within each bin. \n",
    "\n",
    "Arguments ---> a: required, the array data input,\n",
    "bins(optional): a bin represents the range of a specific bar of the histogram,\n",
    "range(optional): lower and upper range of the bins,\n",
    "weights(optional): an array of weights, the same shape as 'a'. Each value in 'a' only contributes its weight towards the bin count (instead of 1),\n",
    "density(optional): boolean.\n",
    "\n",
    "Returns: the values of histogram (array-like) and the bin edges in float type.\n"
   ]
  },
  {
   "cell_type": "code",
   "execution_count": 2,
   "metadata": {},
   "outputs": [
    {
     "data": {
      "text/plain": [
       "\u001b[0;31mSignature:\u001b[0m       \u001b[0mnp\u001b[0m\u001b[0;34m.\u001b[0m\u001b[0mhistogram\u001b[0m\u001b[0;34m(\u001b[0m\u001b[0ma\u001b[0m\u001b[0;34m,\u001b[0m \u001b[0mbins\u001b[0m\u001b[0;34m=\u001b[0m\u001b[0;36m10\u001b[0m\u001b[0;34m,\u001b[0m \u001b[0mrange\u001b[0m\u001b[0;34m=\u001b[0m\u001b[0;32mNone\u001b[0m\u001b[0;34m,\u001b[0m \u001b[0mdensity\u001b[0m\u001b[0;34m=\u001b[0m\u001b[0;32mNone\u001b[0m\u001b[0;34m,\u001b[0m \u001b[0mweights\u001b[0m\u001b[0;34m=\u001b[0m\u001b[0;32mNone\u001b[0m\u001b[0;34m)\u001b[0m\u001b[0;34m\u001b[0m\u001b[0;34m\u001b[0m\u001b[0m\n",
       "\u001b[0;31mCall signature:\u001b[0m  \u001b[0mnp\u001b[0m\u001b[0;34m.\u001b[0m\u001b[0mhistogram\u001b[0m\u001b[0;34m(\u001b[0m\u001b[0;34m*\u001b[0m\u001b[0margs\u001b[0m\u001b[0;34m,\u001b[0m \u001b[0;34m**\u001b[0m\u001b[0mkwargs\u001b[0m\u001b[0;34m)\u001b[0m\u001b[0;34m\u001b[0m\u001b[0;34m\u001b[0m\u001b[0m\n",
       "\u001b[0;31mType:\u001b[0m            _ArrayFunctionDispatcher\n",
       "\u001b[0;31mString form:\u001b[0m     <function histogram at 0x1075627a0>\n",
       "\u001b[0;31mFile:\u001b[0m            /opt/anaconda3/lib/python3.12/site-packages/numpy/lib/histograms.py\n",
       "\u001b[0;31mDocstring:\u001b[0m      \n",
       "Compute the histogram of a dataset.\n",
       "\n",
       "Parameters\n",
       "----------\n",
       "a : array_like\n",
       "    Input data. The histogram is computed over the flattened array.\n",
       "bins : int or sequence of scalars or str, optional\n",
       "    If `bins` is an int, it defines the number of equal-width\n",
       "    bins in the given range (10, by default). If `bins` is a\n",
       "    sequence, it defines a monotonically increasing array of bin edges,\n",
       "    including the rightmost edge, allowing for non-uniform bin widths.\n",
       "\n",
       "    .. versionadded:: 1.11.0\n",
       "\n",
       "    If `bins` is a string, it defines the method used to calculate the\n",
       "    optimal bin width, as defined by `histogram_bin_edges`.\n",
       "\n",
       "range : (float, float), optional\n",
       "    The lower and upper range of the bins.  If not provided, range\n",
       "    is simply ``(a.min(), a.max())``.  Values outside the range are\n",
       "    ignored. The first element of the range must be less than or\n",
       "    equal to the second. `range` affects the automatic bin\n",
       "    computation as well. While bin width is computed to be optimal\n",
       "    based on the actual data within `range`, the bin count will fill\n",
       "    the entire range including portions containing no data.\n",
       "weights : array_like, optional\n",
       "    An array of weights, of the same shape as `a`.  Each value in\n",
       "    `a` only contributes its associated weight towards the bin count\n",
       "    (instead of 1). If `density` is True, the weights are\n",
       "    normalized, so that the integral of the density over the range\n",
       "    remains 1.\n",
       "density : bool, optional\n",
       "    If ``False``, the result will contain the number of samples in\n",
       "    each bin. If ``True``, the result is the value of the\n",
       "    probability *density* function at the bin, normalized such that\n",
       "    the *integral* over the range is 1. Note that the sum of the\n",
       "    histogram values will not be equal to 1 unless bins of unity\n",
       "    width are chosen; it is not a probability *mass* function.\n",
       "\n",
       "Returns\n",
       "-------\n",
       "hist : array\n",
       "    The values of the histogram. See `density` and `weights` for a\n",
       "    description of the possible semantics.\n",
       "bin_edges : array of dtype float\n",
       "    Return the bin edges ``(length(hist)+1)``.\n",
       "\n",
       "\n",
       "See Also\n",
       "--------\n",
       "histogramdd, bincount, searchsorted, digitize, histogram_bin_edges\n",
       "\n",
       "Notes\n",
       "-----\n",
       "All but the last (righthand-most) bin is half-open.  In other words,\n",
       "if `bins` is::\n",
       "\n",
       "  [1, 2, 3, 4]\n",
       "\n",
       "then the first bin is ``[1, 2)`` (including 1, but excluding 2) and\n",
       "the second ``[2, 3)``.  The last bin, however, is ``[3, 4]``, which\n",
       "*includes* 4.\n",
       "\n",
       "\n",
       "Examples\n",
       "--------\n",
       ">>> np.histogram([1, 2, 1], bins=[0, 1, 2, 3])\n",
       "(array([0, 2, 1]), array([0, 1, 2, 3]))\n",
       ">>> np.histogram(np.arange(4), bins=np.arange(5), density=True)\n",
       "(array([0.25, 0.25, 0.25, 0.25]), array([0, 1, 2, 3, 4]))\n",
       ">>> np.histogram([[1, 2, 1], [1, 0, 1]], bins=[0,1,2,3])\n",
       "(array([1, 4, 1]), array([0, 1, 2, 3]))\n",
       "\n",
       ">>> a = np.arange(5)\n",
       ">>> hist, bin_edges = np.histogram(a, density=True)\n",
       ">>> hist\n",
       "array([0.5, 0. , 0.5, 0. , 0. , 0.5, 0. , 0.5, 0. , 0.5])\n",
       ">>> hist.sum()\n",
       "2.4999999999999996\n",
       ">>> np.sum(hist * np.diff(bin_edges))\n",
       "1.0\n",
       "\n",
       ".. versionadded:: 1.11.0\n",
       "\n",
       "Automated Bin Selection Methods example, using 2 peak random data\n",
       "with 2000 points:\n",
       "\n",
       ">>> import matplotlib.pyplot as plt\n",
       ">>> rng = np.random.RandomState(10)  # deterministic random data\n",
       ">>> a = np.hstack((rng.normal(size=1000),\n",
       "...                rng.normal(loc=5, scale=2, size=1000)))\n",
       ">>> _ = plt.hist(a, bins='auto')  # arguments are passed to np.histogram\n",
       ">>> plt.title(\"Histogram with 'auto' bins\")\n",
       "Text(0.5, 1.0, \"Histogram with 'auto' bins\")\n",
       ">>> plt.show()\n",
       "\u001b[0;31mClass docstring:\u001b[0m\n",
       "Class to wrap functions with checks for __array_function__ overrides.\n",
       "\n",
       "All arguments are required, and can only be passed by position.\n",
       "\n",
       "Parameters\n",
       "----------\n",
       "dispatcher : function or None\n",
       "    The dispatcher function that returns a single sequence-like object\n",
       "    of all arguments relevant.  It must have the same signature (except\n",
       "    the default values) as the actual implementation.\n",
       "    If ``None``, this is a ``like=`` dispatcher and the\n",
       "    ``_ArrayFunctionDispatcher`` must be called with ``like`` as the\n",
       "    first (additional and positional) argument.\n",
       "implementation : function\n",
       "    Function that implements the operation on NumPy arrays without\n",
       "    overrides.  Arguments passed calling the ``_ArrayFunctionDispatcher``\n",
       "    will be forwarded to this (and the ``dispatcher``) as if using\n",
       "    ``*args, **kwargs``.\n",
       "\n",
       "Attributes\n",
       "----------\n",
       "_implementation : function\n",
       "    The original implementation passed in."
      ]
     },
     "metadata": {},
     "output_type": "display_data"
    }
   ],
   "source": [
    "import numpy as np\n",
    "np.histogram? # get description of function-arguments"
   ]
  },
  {
   "cell_type": "markdown",
   "metadata": {},
   "source": [
    "## Question 2\n",
    "Identify the lists below. If they are a list, explain how you know this (syntax or function that you used). If it is not a list, tell me what it is and explain how you know this.\n",
    "\n",
    "1. np.std()\n",
    "2. print(['hello', 67, 85, '25'])\n",
    "3. ['fall','spring','summer','winter']\n",
    "4. {'a':1, 'b':2, 'c': 3, 'd':4, 'e':5, 'g':6}\n",
    "5. [[1,45],[56,89],[88,45]]\n",
    "6. ('August','September', 'October','November','December')"
   ]
  },
  {
   "cell_type": "markdown",
   "metadata": {},
   "source": [
    "### Write your answer here:"
   ]
  },
  {
   "cell_type": "markdown",
   "metadata": {},
   "source": [
    "1.) function impoprted from NumPy package that calculates the standard deviation of a variable. () indicates function.\n",
    "2.) print(['hello', 67, 85, '25']) itself is not a list, it is a function and the printed output is a list composed of strings, integers and hard brackets []\n",
    "3.) list of strings:sequence of characters\n",
    "4.)dictionary with {}, keyes are strings and values are integers.\n",
    "5.) list of lists [], also called 3x2 matrix\n",
    "6.) tuple with ()\n"
   ]
  },
  {
   "cell_type": "markdown",
   "metadata": {},
   "source": [
    "## Question 3\n",
    "Write a python script using a for loop and range function that prints numbers 30 through 100 by every 10 except 70."
   ]
  },
  {
   "cell_type": "markdown",
   "metadata": {},
   "source": [
    "### Write your code here:"
   ]
  },
  {
   "cell_type": "code",
   "execution_count": 67,
   "metadata": {},
   "outputs": [
    {
     "name": "stdout",
     "output_type": "stream",
     "text": [
      "30\n",
      "40\n",
      "50\n",
      "60\n",
      "Summer/s on the way\n",
      "80\n",
      "90\n",
      "100\n"
     ]
    }
   ],
   "source": [
    "numb=range(30,110,10)\n",
    "for i in numb:\n",
    "    if i !=70:\n",
    "        print(i)\n",
    "    else:\n",
    "        print('Summer/s on the way')"
   ]
  },
  {
   "cell_type": "markdown",
   "metadata": {},
   "source": [
    "## Question 4\n",
    "1. Write a python script that contains a for loop that prints 'even' and the number for every even number\n",
    "2. and (in the same script) create a new list of even numbers in the series:\n",
    "[1,2,3,7,9,34,56,70,90,123,136,148,156] \n",
    "\n",
    "    "
   ]
  },
  {
   "cell_type": "markdown",
   "metadata": {},
   "source": [
    "### Write your code here:"
   ]
  },
  {
   "cell_type": "code",
   "execution_count": 66,
   "metadata": {
    "collapsed": true,
    "jupyter": {
     "outputs_hidden": true
    },
    "scrolled": true
   },
   "outputs": [
    {
     "name": "stdout",
     "output_type": "stream",
     "text": [
      "i is not even\n",
      "2\n",
      "i is not even\n",
      "4\n",
      "i is not even\n",
      "6\n",
      "i is not even\n",
      "8\n",
      "i is not even\n",
      "10\n",
      "i is not even\n",
      "12\n",
      "i is not even\n",
      "14\n",
      "i is not even\n",
      "16\n",
      "i is not even\n",
      "18\n",
      "i is not even\n",
      "20\n",
      "i is not even\n",
      "22\n",
      "i is not even\n",
      "24\n",
      "i is not even\n",
      "26\n",
      "i is not even\n",
      "28\n",
      "i is not even\n",
      "30\n",
      "i is not even\n",
      "32\n",
      "i is not even\n",
      "34\n",
      "i is not even\n",
      "36\n",
      "i is not even\n",
      "38\n",
      "i is not even\n",
      "40\n",
      "i is not even\n",
      "42\n",
      "i is not even\n",
      "44\n",
      "i is not even\n",
      "46\n",
      "i is not even\n",
      "48\n",
      "i is not even\n",
      "50\n",
      "i is not even\n",
      "52\n",
      "i is not even\n",
      "54\n",
      "i is not even\n",
      "56\n",
      "i is not even\n",
      "58\n",
      "i is not even\n",
      "60\n",
      "i is not even\n",
      "62\n",
      "i is not even\n",
      "64\n",
      "i is not even\n",
      "66\n",
      "i is not even\n",
      "68\n",
      "i is not even\n",
      "70\n",
      "i is not even\n",
      "72\n",
      "i is not even\n",
      "74\n",
      "i is not even\n",
      "76\n",
      "i is not even\n",
      "78\n",
      "i is not even\n",
      "80\n",
      "i is not even\n",
      "82\n",
      "i is not even\n",
      "84\n",
      "i is not even\n",
      "86\n",
      "i is not even\n",
      "88\n",
      "i is not even\n",
      "90\n",
      "i is not even\n",
      "92\n",
      "i is not even\n",
      "94\n",
      "i is not even\n",
      "96\n",
      "i is not even\n",
      "98\n",
      "i is not even\n"
     ]
    }
   ],
   "source": [
    "for i in range(1,100,1):\n",
    "    if i%2==0:\n",
    "        print(i)\n",
    "    else:\n",
    "        print('i is not even')"
   ]
  },
  {
   "cell_type": "code",
   "execution_count": 69,
   "metadata": {},
   "outputs": [
    {
     "name": "stdout",
     "output_type": "stream",
     "text": [
      "i is an odd number\n",
      "i is an even number\n",
      "i is an odd number\n",
      "i is an odd number\n",
      "i is an odd number\n",
      "i is an even number\n",
      "i is an even number\n",
      "i is an even number\n",
      "i is an even number\n",
      "i is an odd number\n",
      "i is an even number\n",
      "i is an even number\n",
      "i is an even number\n"
     ]
    },
    {
     "data": {
      "text/plain": [
       "[2, 34, 56, 70, 90, 136, 148, 156]"
      ]
     },
     "execution_count": 69,
     "metadata": {},
     "output_type": "execute_result"
    }
   ],
   "source": [
    "numbs=[1,2,3,7,9,34,56,70,90,123,136,148,156]\n",
    "evennumbs=[]\n",
    "for i in numbs:\n",
    "    if i%2==0:\n",
    "        print('i is an even number')\n",
    "        evennumbs.append(i)\n",
    "    else:\n",
    "        print('i is an odd number')\n",
    "evennumbs"
   ]
  },
  {
   "cell_type": "markdown",
   "metadata": {},
   "source": [
    "## Question 5\n",
    "\n",
    "1. Write a while loop that calculates celsius to farenheit up to and including 38 celsius (hint: (32°F − 32) × 5/9 = 0°C)\n",
    "2. How long does it take to run the script you wrote? Use python to show this."
   ]
  },
  {
   "cell_type": "markdown",
   "metadata": {},
   "source": [
    "### Write your code here:"
   ]
  },
  {
   "cell_type": "code",
   "execution_count": 10,
   "metadata": {},
   "outputs": [
    {
     "name": "stdout",
     "output_type": "stream",
     "text": [
      "32.0\n",
      "33.8\n",
      "35.6\n",
      "37.4\n",
      "39.2\n",
      "41.0\n",
      "42.8\n",
      "44.6\n",
      "46.4\n",
      "48.2\n",
      "50.0\n",
      "51.8\n",
      "53.6\n",
      "55.400000000000006\n",
      "57.2\n",
      "59.0\n",
      "60.8\n",
      "62.6\n",
      "64.4\n",
      "66.2\n",
      "68.0\n",
      "69.80000000000001\n",
      "71.6\n",
      "73.4\n",
      "75.2\n",
      "77.0\n",
      "78.80000000000001\n",
      "80.6\n",
      "82.4\n",
      "84.2\n",
      "86.0\n",
      "87.80000000000001\n",
      "89.6\n",
      "91.4\n",
      "93.2\n",
      "95.0\n",
      "96.8\n",
      "98.60000000000001\n",
      "100.4\n"
     ]
    },
    {
     "data": {
      "text/plain": [
       "datetime.timedelta(microseconds=945)"
      ]
     },
     "execution_count": 10,
     "metadata": {},
     "output_type": "execute_result"
    }
   ],
   "source": [
    "import datetime as dt\n",
    "starttime=dt.datetime.now()\n",
    "c=0\n",
    "while c<=38:\n",
    "    f=(9/5)*c+32\n",
    "    c+=1\n",
    "    print(f)\n",
    "endtime=dt.datetime.now()\n",
    "elapsedtime=endtime-starttime\n",
    "elapsedtime # 0 C= 32 F. 926 microseconds to write the code."
   ]
  },
  {
   "cell_type": "markdown",
   "metadata": {},
   "source": [
    "## Question 6\n",
    "\n",
    "Write a script that skips vowels from the following string: \"Python is for everyone!\"\n",
    "\n",
    "Be sure that this outputs in one string or list in one line."
   ]
  },
  {
   "cell_type": "markdown",
   "metadata": {},
   "source": [
    "### Write your code here:"
   ]
  },
  {
   "cell_type": "code",
   "execution_count": 8,
   "metadata": {
    "scrolled": true
   },
   "outputs": [
    {
     "name": "stdout",
     "output_type": "stream",
     "text": [
      "['P', 't', 'h', 'n', 's', 'f', 'r', 'v', 'r', 'n']\n"
     ]
    }
   ],
   "source": [
    "vowels=['a','y','o','i','e','u'] # all vowels\n",
    "quote=['P','y','t','h','o','n','i','s','f','o','r','e','v','e','r','y','o','n','e'] # the string/phrase\n",
    "notvowels=[]\n",
    "for i in quote:\n",
    "    if i not in vowels:\n",
    "        notvowels.append(i)\n",
    "print(notvowels)"
   ]
  },
  {
   "cell_type": "markdown",
   "metadata": {},
   "source": [
    "## Question 7\n",
    "\n",
    "Write a script with for loops that prints out every month and then prints out the total number of days in that month. \n",
    "(ie January, 31, February, 28, etc) Use for loops to do this. \n"
   ]
  },
  {
   "cell_type": "markdown",
   "metadata": {},
   "source": [
    "### Write your code here:"
   ]
  },
  {
   "cell_type": "code",
   "execution_count": 62,
   "metadata": {},
   "outputs": [
    {
     "name": "stdout",
     "output_type": "stream",
     "text": [
      "Jan,31 days\n",
      "Mar,31 days\n",
      "May,31 days\n",
      "July,31 days\n",
      "Aug,31 days\n",
      "Oct,31 days\n",
      "Dec,31 days\n",
      "April,30 days\n",
      "June,30 days\n",
      "Setpt,30 days\n",
      "Nov,30 days\n",
      "Feb,28 days\n"
     ]
    }
   ],
   "source": [
    "months=[('Jan',31),('Mar',31),('May',31),('July',31),('Aug',31),('Oct',31),('Dec',31),('April',30),('June',30),('Setpt',30),('Nov',30),('Feb',28)]\n",
    "for month,days in months:\n",
    "    print(f\"{month},{days} days\")\n",
    "    \n"
   ]
  },
  {
   "cell_type": "markdown",
   "metadata": {},
   "source": [
    "## Question 8\n",
    "matrix_1 = np.matrix([[34,567,32,40],[95,20,32,55],[94,51,24,593],[35,526,97,393],[94,822,362,263]])\n",
    "\n",
    "1. Slice matrix_1 to show column 2 and rows 2 through 5\n",
    "2. Filter matrix_1 to show values that are between 54 through 90 (not including 54 or 90)\n",
    "3. Transpose matrix_1"
   ]
  },
  {
   "cell_type": "markdown",
   "metadata": {},
   "source": [
    "### Write your code here:"
   ]
  },
  {
   "cell_type": "code",
   "execution_count": 34,
   "metadata": {},
   "outputs": [
    {
     "data": {
      "text/plain": [
       "matrix([[ 34,  95,  94,  35,  94],\n",
       "        [567,  20,  51, 526, 822],\n",
       "        [ 32,  32,  24,  97, 362],\n",
       "        [ 40,  55, 593, 393, 263]])"
      ]
     },
     "execution_count": 34,
     "metadata": {},
     "output_type": "execute_result"
    }
   ],
   "source": [
    "import numpy as np #importing NumPy\n",
    "matrix_1 = np.matrix([[34,567,32,40],[95,20,32,55],[94,51,24,593],[35,526,97,393],[94,822,362,263]]) # 5x4 size\n",
    "sliced=matrix_1[1:6,1] # index is 0 so second row comes with 1 and I put 6 orelse it won't count 5th row.\n",
    "sliced\n",
    "x=matrix_1[(matrix_1>54) & (matrix_1<90)] # [] is for filtering\n",
    "x\n",
    "matrix_1=np.transpose(matrix_1) # rows become columns, 4x5 size\n",
    "matrix_1\n"
   ]
  },
  {
   "cell_type": "markdown",
   "metadata": {},
   "source": [
    "## Question 9\n",
    "Using the following arrays:\n",
    "a = np.array([45,86,78,300,586,686,486,794,486,58,77,93,55,83,136])\n",
    "b = np.array([45,67,239,555,597,264,908,562,44,58,39,57,62,58,224])\n",
    "\n",
    "Write a python code using **numpy** that:\n",
    "    1. calculates the difference between the minimum and maximum number for each earray\n",
    "    2. calculates the 75th percentile for each array\n",
    "    3. calculates the mean and standard deviation for each array\n",
    "    4. calculates the correlation coefficient between the two arrays\n",
    "    \n",
    "Please document what those numbers are in your answer. \n",
    "\n",
    "Hint: the functions for these statistics can easily be found in the lecture slides and any reference guide to python"
   ]
  },
  {
   "cell_type": "markdown",
   "metadata": {},
   "source": [
    "### Write your code here:"
   ]
  },
  {
   "cell_type": "code",
   "execution_count": 61,
   "metadata": {},
   "outputs": [
    {
     "name": "stdout",
     "output_type": "stream",
     "text": [
      "[255.04469325111543, 265.0120668112219, 269.93333333333334, 251.93333333333334]\n"
     ]
    }
   ],
   "source": [
    "import numpy as np #Q1\n",
    "a = np.array([45,86,78,300,586,686,486,794,486,58,77,93,55,83,136])\n",
    "b = np.array([45,67,239,555,597,264,908,562,44,58,39,57,62,58,224]) # in a matrix form it woulb be 15x1 size\n",
    "max_a=a.max()\n",
    "min_a=a.min()\n",
    "max_b=b.max()\n",
    "min_b=b.min()\n",
    "rangea=max_a-min_a # range=difference between max,min\n",
    "rangeb=max_b-min_b\n",
    "rangea\n",
    "rangeb\n",
    "amat=np.matrix(a)\n",
    "bmat=np.matrix(b)\n",
    "a75=np.percentile(amat,75,axis=1) \n",
    "b75=np.percentile(bmat,75,axis=1)\n",
    "a75\n",
    "b75\n",
    "stda=np.std(amat) #std and mean functions within the np package. () are whereby arguments are stored.\n",
    "stdb=np.std(bmat)\n",
    "meana=np.mean(amat)\n",
    "meanb=np.mean(bmat)\n",
    "print([stda,stdb,meana,meanb])\n"
   ]
  },
  {
   "cell_type": "markdown",
   "metadata": {},
   "source": [
    "## Question 10\n",
    "\n",
    "Use a numpy function that randomly generates numbers in an array that has the shape(8,8)"
   ]
  },
  {
   "cell_type": "markdown",
   "metadata": {},
   "source": [
    "### Write your code here:"
   ]
  },
  {
   "cell_type": "code",
   "execution_count": 65,
   "metadata": {},
   "outputs": [
    {
     "name": "stdout",
     "output_type": "stream",
     "text": [
      "[[0.20190511 0.55838757 0.05846824 0.90876802 0.00541288 0.23953217\n",
      "  0.95237228 0.85453431]\n",
      " [0.58681998 0.52422388 0.62944813 0.7500167  0.62921109 0.48571738\n",
      "  0.69366745 0.30951981]\n",
      " [0.99026303 0.35289674 0.33720133 0.98981294 0.73771175 0.60807597\n",
      "  0.43534625 0.4712821 ]\n",
      " [0.89231942 0.59081446 0.60263802 0.67522455 0.14686363 0.18455741\n",
      "  0.25821247 0.01075748]\n",
      " [0.99091069 0.97840584 0.1216203  0.79113744 0.72179832 0.71571763\n",
      "  0.82175193 0.46377981]\n",
      " [0.32474286 0.42991739 0.80175482 0.99871762 0.49682091 0.61019171\n",
      "  0.49947847 0.74120703]\n",
      " [0.2509546  0.57466093 0.03759106 0.2697057  0.79503129 0.15049482\n",
      "  0.01127849 0.04824198]\n",
      " [0.52189438 0.73194115 0.50046009 0.69304225 0.71165547 0.45012215\n",
      "  0.04686777 0.04007976]]\n"
     ]
    }
   ],
   "source": [
    "import numpy as np\n",
    "random_array=np.random.rand(8,8)\n",
    "print(random_array)"
   ]
  },
  {
   "cell_type": "code",
   "execution_count": null,
   "metadata": {},
   "outputs": [],
   "source": []
  }
 ],
 "metadata": {
  "kernelspec": {
   "display_name": "Python [conda env:base] *",
   "language": "python",
   "name": "conda-base-py"
  },
  "language_info": {
   "codemirror_mode": {
    "name": "ipython",
    "version": 3
   },
   "file_extension": ".py",
   "mimetype": "text/x-python",
   "name": "python",
   "nbconvert_exporter": "python",
   "pygments_lexer": "ipython3",
   "version": "3.12.7"
  }
 },
 "nbformat": 4,
 "nbformat_minor": 4
}
